{
 "cells": [
  {
   "cell_type": "markdown",
   "metadata": {},
   "source": [
    "## LINEAR REGRESSION MODEL AND ANALYSIS\n",
    "We have come to the \"Final Stage\" .... The Modeling\n",
    "For the purposes of this project we were encouraged to use the Linear Regression Model.\n",
    "Below, I will show the model used and provide analysis of the results garnered by the data that were exhibited."
   ]
  },
  {
   "cell_type": "code",
   "execution_count": 2,
   "metadata": {},
   "outputs": [],
   "source": [
    "#Define the model environment\n",
    "import pandas as pd\n",
    "import numpy as np\n",
    "from sklearn.datasets import load_iris\n",
    "from sklearn.model_selection import train_test_split\n",
    "from sklearn.linear_model import LinearRegression\n",
    "from sklearn.metrics import mean_squared_error, r2_score"
   ]
  },
  {
   "cell_type": "code",
   "execution_count": 3,
   "metadata": {},
   "outputs": [],
   "source": [
    "#Load `IMDB-Movie-Data.csv` as a pandas dataframe\n",
    "df= pd.read_csv(\"C:/Users/deema/Desktop/EOP-01/LetsGoToTheMovies/Notebooks/data/raw/IMDB-Movie-Data.csv\")  \n",
    "\n",
    "#Make a back up copy of the Original Data Frame\n",
    "df_copy = df.copy()"
   ]
  },
  {
   "cell_type": "code",
   "execution_count": 4,
   "metadata": {},
   "outputs": [
    {
     "name": "stdout",
     "output_type": "stream",
     "text": [
      "Coefficients: [-0.10627533 -0.0397204   0.22894234  0.61123074]\n",
      "Intercept: 0.16149541375178778\n",
      "Mean squared error (MSE): 0.05\n",
      "Coefficient of determination (R^2): 0.91\n"
     ]
    }
   ],
   "source": [
    "#MODEL using Linear Regression\n",
    "\n",
    "# Load the Iris dataset\n",
    "iris = load_iris()\n",
    "df = pd.DataFrame(data=iris.data, columns=iris.feature_names)\n",
    "\n",
    "# Define the feature set 'X' and the target variable 'y'\n",
    "X = df  # All columns in the DataFrame are used as features\n",
    "y = iris.target  # The target variable is the Iris species\n",
    "\n",
    "# Assuming that 'X' is your feature set and 'y' is the target variable\n",
    "X_train, X_test, y_train, y_test = train_test_split(X, y, test_size=0.2, random_state=0)\n",
    "\n",
    "# Create a Linear Regression object\n",
    "regressor = LinearRegression()\n",
    "\n",
    "# Fit the model to the training data\n",
    "regressor.fit(X_train, y_train)\n",
    "\n",
    "# Use the model to predict the test set results\n",
    "y_pred = regressor.predict(X_test)\n",
    "\n",
    "# Calculate and print metrics\n",
    "print('Coefficients:', regressor.coef_)\n",
    "print('Intercept:', regressor.intercept_)\n",
    "print('Mean squared error (MSE): %.2f'\n",
    "      % mean_squared_error(y_test, y_pred))\n",
    "print('Coefficient of determination (R^2): %.2f'\n",
    "      % r2_score(y_test, y_pred))\n"
   ]
  },
  {
   "cell_type": "markdown",
   "metadata": {},
   "source": [
    "## OVERALL ANALYSIS\n",
    "##OVERALL ANALYSIS\n",
    "Based on the data calculations, here's an overall analysis of the\n",
    "Linear Regression Model:\n",
    "\n",
    "1. Coefficients: The coefficients of this model are `-0.10627533`, `-0.0397204`, `0.22894234`, and `0.61123074`. These values represent the change in the target variable for a one-unit change in the corresponding feature. With the understanding that all other features remain constant.The signs of the coefficients (-) or (+), indicate the direction of the relationship with the target variable, as referenced.\n",
    "\n",
    "2. Intercept: The intercept of your model is `0.16149541375178778`. This is the expected value of the target variable in the understanding that  all features are zero. Yet, the interpretation of the intercept often doesn't make sense in the reality, if zero is not a valid value for all or even some of the features.\n",
    "\n",
    "3. Mean Squared Error (MSE): The MSE of the model is `0.05`. This is a measure of the average squared difference between the actual and predicted values. Therefore, the closer this value is to zero, the better the performance of the model. Nonetheless, in regards to the scale of the MSE, this depends on the scale of the target variable, so it can sometimes be hard to interpret this by its' self.\n",
    "\n",
    "4. Coefficient of Determination (R^2): The R^2 of your model is `0.91` (or 91% when expressed as a percentage). Thus, 91% of the variability in the target variable can be more easily explained by the features. An R^2 value close to 1 indicates that the model explains a large portion of the variance in the target variable. Therefore, suggesting that the model is performing very well. This is definitely a Good Thing!\n",
    "\n"
   ]
  },
  {
   "cell_type": "markdown",
   "metadata": {},
   "source": [
    "##CONCLUSION\n",
    " In final thought, the model seems to be performing well based on the R^2 value. Yet, it's important to validate these results using a separate test sets or cross-validation. By doing this, I can to ensure that the model generalizes well to unseen or unknown data."
   ]
  },
  {
   "cell_type": "markdown",
   "metadata": {},
   "source": [
    "##FUTURE THOUGHTS\n",
    " Additional review could be possible in utilizing different models and visualizations. The extendability of the data can also be revisited where by adding additional elements more geared to involving human characteristics that effect movie go choices and rates of movies. There could also extend into other genres i.e., music."
   ]
  }
 ],
 "metadata": {
  "kernelspec": {
   "display_name": "base",
   "language": "python",
   "name": "python3"
  },
  "language_info": {
   "codemirror_mode": {
    "name": "ipython",
    "version": 3
   },
   "file_extension": ".py",
   "mimetype": "text/x-python",
   "name": "python",
   "nbconvert_exporter": "python",
   "pygments_lexer": "ipython3",
   "version": "3.11.5"
  }
 },
 "nbformat": 4,
 "nbformat_minor": 2
}
